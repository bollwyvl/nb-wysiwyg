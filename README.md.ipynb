{
 "cells": [
  {
   "cell_type": "code",
   "execution_count": 2,
   "metadata": {
    "collapsed": false
   },
   "outputs": [
    {
     "data": {
      "application/javascript": [
       "require([\"/nbextensions/nb-wysiwyg/nb-wysiwyg.js\"]);"
      ],
      "text/plain": [
       "<IPython.core.display.Javascript object>"
      ]
     },
     "metadata": {},
     "output_type": "display_data"
    }
   ],
   "source": [
    "%%javascript\n",
    "require([\"/nbextensions/nb-wysiwyg/nb-wysiwyg.js\"]);"
   ]
  },
  {
   "cell_type": "markdown",
   "metadata": {},
   "source": [
    "# nb-wysiwyg\n",
    "\n",
    "> An editable WYSIWYG preview for the IPython/Jupyter Notebook.\n",
    "\n",
    "Markdown is great for most editing tasks, an the _semantically enriched_ [CodeMirror](http://codemirror.net) mod in the Notebook makes it even better. When youtyp\n",
    "\n",
    "Sometimes, though, a more immediate preview of the resulting rich text is nice, too: `nbextension` gives you a rich text editor right next to your markdown editor, so you can see how your text will look without changing modes.\n",
    "\n",
    "## Features\n",
    "- reactive editing of most of the Markdown block and span features:\n",
    "  - headers\n",
    "  - links\n",
    "  - blockquote\n",
    "  - code"
   ]
  },
  {
   "cell_type": "code",
   "execution_count": 5,
   "metadata": {
    "collapsed": false
   },
   "outputs": [
    {
     "name": "stdout",
     "output_type": "stream",
     "text": [
      "[NbConvertApp] Using existing profile dir: u'/Users/weg/.ipython/profile_default'\n",
      "[NbConvertApp] Converting notebook README.md.ipynb to markdown\n",
      "[NbConvertApp] Support files will be in README_files/\n",
      "[NbConvertApp] Loaded template markdown.tpl\n",
      "[NbConvertApp] Writing 729 bytes to README.md\n"
     ]
    }
   ],
   "source": [
    "!ipython nbconvert --to=markdown README.md.ipynb --output=README"
   ]
  },
  {
   "cell_type": "code",
   "execution_count": null,
   "metadata": {
    "collapsed": true
   },
   "outputs": [],
   "source": []
  }
 ],
 "metadata": {
  "kernelspec": {
   "display_name": "IPython (Python 2)",
   "name": "python2"
  },
  "language_info": {
   "codemirror_mode": {
    "name": "ipython",
    "version": 2
   },
   "file_extension": ".py",
   "mimetype": "text/x-python",
   "name": "python",
   "nbconvert_exporter": "python",
   "pygments_lexer": "ipython2",
   "version": "2.7.6"
  },
  "signature": "sha256:c321e289593ae208380ea2124ca8bae15b9767a301e0c7424f24638720628970"
 },
 "nbformat": 4,
 "nbformat_minor": 0
}